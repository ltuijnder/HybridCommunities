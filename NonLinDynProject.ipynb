{
 "cells": [
  {
   "cell_type": "markdown",
   "metadata": {},
   "source": [
    "# Non Lineair Dynamics Project\n",
    "\n",
    "In this project we explore the stability of biological communities. We will be studying the effect when we combine mutalistic and antognistic interaction between species together in one community.\n",
    "\n",
    "More concreet we will try to reproduce the results of this paper: *A. Moughi and M. Kondoh:* Diversity of Interaction Types and Ecological Community Stability.*Science* **337**,349 (2012)\n",
    "\n",
    "## Methodology\n",
    "\n",
    "First some basic questions out the way:\n",
    "* **Q:What exactly do we want to study?**\n",
    "\n",
    "*A: We want to study the stability of a complex community. For this we will actually check for a given fixed set of parameters, that define the community dynamics, if it is stable or not. Doing this then many times for the same configuration we can eventually put a probability on how stable the community is under these parameters.*\n",
    "* **Q:How do we even represent a community and its dynamics?**\n",
    "\n",
    "*A: We will be working with a vector $\\vec{X}$ who's components are the abundance of species, and thus represent the state of our community at a given time. The dynamics of this vector $ \\vec{X} $ are goverend by a coupled set of differential equations looking of the form: $$\\frac{d\\vec{X}}{dt}=\\vec{F}(\\vec{X},\\vec{\\alpha})$$ Here $\\vec{F}$ is a vector of function of which each depends on $\\vec{X}$ and $\\vec{\\alpha}$. $\\vec{\\alpha}$ is a vector of tunable parameter values that determine the dynamics of the system.*\n",
    "* **Q:How do we know if the community is stable?**\n",
    "\n",
    "*A: We will do linear stability analysis around a fixed point of the community to determine the stability. For this we need to determine the Jacobian Matrix of the dynamic equation and evaluate it at that point. We know the point is stable if the real part of the eigenvalues are all smaller or equal to zero. This is easily understood if one looks at the general solution of a linearised system:$$\\sum_{k=1}^{N} c_ke^{\\lambda_k t}\\vec{v_k}$$ Where k sums over all the eigenvectors $\\vec{v_k}$ and eigenvalues $\\lambda_k$, and $N$ is the dimension of the system, and $c_k$ some constante to be determined by the intial condition. If one of the eigenvalues $\\lambda_k$ has a real positif part. The solution will then always grow exponentially and move away from the fixed point allong the $\\vec{v_k}$ direction.*\n",
    "* **Q:How do we even know that there is a fixed point let alone how to find it for a big system?**\n",
    "\n",
    "*A: To solve both problems we will **impose** a fixed point in our community. This will be done by tuning the growth rate $r_i$ (see later), such that the fixed point is created. From here on out we can carry out our analysis.*\n",
    "* **Q:And other fixed points that might be stable?**\n",
    "\n",
    "*A: Indeed it is possible that the fixed point that we imposed is not stable. And that when we move away from our point and end up stumbeling on another fixed point that is stable. We then still classified our system as unstable, since we only evaluate our point. This can indeed happen and there is no way for us knowing if this happens. But more then likely is that the other fixed point is stable but with a whole lot of species dead (some $\\vec{X}$ components =0), we then also see the system as unstable since we want to look at stability that can support **all** our species.*\n",
    "\n",
    "## Choice of our Dynamical Model\n",
    "\n",
    "*Work in progress*\n",
    "Explain here how the dynamical model looks like and why it is motivated this way. "
   ]
  },
  {
   "cell_type": "code",
   "execution_count": 1,
   "metadata": {},
   "outputs": [],
   "source": [
    "import numpy as np\n",
    "import matplotlib.pyplot as plt"
   ]
  },
  {
   "cell_type": "code",
   "execution_count": 2,
   "metadata": {},
   "outputs": [
    {
     "data": {
      "text/plain": [
       "array([[0.        , 0.        , 0.70682168, 0.        , 0.94836491],\n",
       "       [0.        , 0.        , 0.        , 0.97079256, 0.15287772],\n",
       "       [0.93922916, 0.        , 0.        , 0.        , 0.        ],\n",
       "       [0.        , 0.64327771, 0.        , 0.        , 0.87461885],\n",
       "       [0.85102792, 0.90041971, 0.        , 0.79093917, 0.        ]])"
      ]
     },
     "execution_count": 2,
     "metadata": {},
     "output_type": "execute_result"
    }
   ],
   "source": [
    "#Parameters\n",
    "N=5 #Number of species\n",
    "fA=1; # Strength Antagonism\n",
    "fM=1; # Strength Mutalism\n",
    "P=0.5 # Fraction that maximum connectance\n",
    "f=0.5 # Fraction of the connections that is mutalism\n",
    "\n",
    "#Create connectance Cascade mode (see notes for this.)\n",
    "LMax=int(N*(N-1)/2)\n",
    "C_l=np.zeros(LMax) # =Lmax cascade\n",
    "C_l[:int(LMax*P)]=-1 #Create the correct percentage of amount connections (set it default to antagonistic)\n",
    "C_l[:int(LMax*P*f)]=1 #Create the correct percentage of mutalistic connections\n",
    "C_l=np.random.permutation(C_l) # Mix the connection maximully.\n",
    "# This way you have a bias to wards antagonistic connections! This is btw really bad for small N number.\n",
    "\n",
    "\n",
    "# Now we want to project this into the Matrix form. C_l is the upper matrix. Convinietly we have the following function:\n",
    "# https://docs.scipy.org/doc/numpy/reference/generated/numpy.triu_indices.html\n",
    "C=np.zeros((N,N))\n",
    "C[np.triu_indices(N,1)]=C_l # Fill the upper half of the C Matrix\n",
    "C+=np.transpose(C) # symmetrize it.\n",
    "\n",
    "#Random number generation\n",
    "X_fixed=np.random.rand(N)  #Abundance for fixed point\n",
    "s=np.random.rand(N)  # Inverse saturation population\n",
    "\n",
    "# This is NOT efficient, since we actually don't need to generate more then there are connections. \n",
    "# But it doesn't really matter that much for now. (upgrade this later)\n",
    "e=np.random.rand(N,N)  #Efficiency of Mutalism interactions\n",
    "g=np.random.rand(N,N)  #Efficiency of Antagonistic interactions\n",
    "A=np.random.rand(N,N)  #Preference of species to each other (regardless of the type of interaction)\n",
    "\n",
    "# Only keep the values that are connected\n",
    "e*=abs(C)\n",
    "g*=abs(C)\n",
    "A*=abs(C)"
   ]
  },
  {
   "cell_type": "code",
   "execution_count": 3,
   "metadata": {},
   "outputs": [
    {
     "ename": "NameError",
     "evalue": "name 'counter' is not defined",
     "output_type": "error",
     "traceback": [
      "\u001b[0;31m---------------------------------------------------------------------------\u001b[0m",
      "\u001b[0;31mNameError\u001b[0m                                 Traceback (most recent call last)",
      "\u001b[0;32m<ipython-input-3-adec756d0d31>\u001b[0m in \u001b[0;36m<module>\u001b[0;34m()\u001b[0m\n\u001b[1;32m      4\u001b[0m \u001b[0;32mfor\u001b[0m \u001b[0mi\u001b[0m \u001b[0;32min\u001b[0m \u001b[0mrange\u001b[0m\u001b[0;34m(\u001b[0m\u001b[0mN\u001b[0m\u001b[0;34m)\u001b[0m\u001b[0;34m:\u001b[0m\u001b[0;34m\u001b[0m\u001b[0;34m\u001b[0m\u001b[0m\n\u001b[1;32m      5\u001b[0m     \u001b[0;32mfor\u001b[0m \u001b[0mj\u001b[0m \u001b[0;32min\u001b[0m \u001b[0mrange\u001b[0m\u001b[0;34m(\u001b[0m\u001b[0mN\u001b[0m\u001b[0;34m)\u001b[0m\u001b[0;34m:\u001b[0m\u001b[0;34m\u001b[0m\u001b[0;34m\u001b[0m\u001b[0m\n\u001b[0;32m----> 6\u001b[0;31m         \u001b[0ma\u001b[0m\u001b[0;34m[\u001b[0m\u001b[0mi\u001b[0m\u001b[0;34m,\u001b[0m\u001b[0mj\u001b[0m\u001b[0;34m]\u001b[0m\u001b[0;34m=\u001b[0m\u001b[0mcounter\u001b[0m\u001b[0;34m\u001b[0m\u001b[0;34m\u001b[0m\u001b[0m\n\u001b[0m\u001b[1;32m      7\u001b[0m         \u001b[0;32mif\u001b[0m\u001b[0;34m(\u001b[0m\u001b[0mi\u001b[0m\u001b[0;34m==\u001b[0m\u001b[0mj\u001b[0m\u001b[0;34m)\u001b[0m\u001b[0;34m:\u001b[0m\u001b[0;32mcontinue\u001b[0m\u001b[0;34m\u001b[0m\u001b[0;34m\u001b[0m\u001b[0m\n\u001b[1;32m      8\u001b[0m         \u001b[0;32mif\u001b[0m\u001b[0;34m(\u001b[0m\u001b[0;32mnot\u001b[0m \u001b[0mC\u001b[0m\u001b[0;34m[\u001b[0m\u001b[0mi\u001b[0m\u001b[0;34m,\u001b[0m\u001b[0mj\u001b[0m\u001b[0;34m]\u001b[0m\u001b[0;34m)\u001b[0m\u001b[0;34m:\u001b[0m\u001b[0;32mcontinue\u001b[0m\u001b[0;31m# if it is not connect we don't need to create a_ij\u001b[0m\u001b[0;34m\u001b[0m\u001b[0;34m\u001b[0m\u001b[0m\n",
      "\u001b[0;31mNameError\u001b[0m: name 'counter' is not defined"
     ]
    }
   ],
   "source": [
    "# compute matrix small a: The real benefit growth from interaction with oter series.\n",
    "# To create \"a\" we need to know PER connection if it's mutlatist or antogonist. So it will be most readable with a forloop\n",
    "a=np.zeros((N,N))\n",
    "for i in range(N):\n",
    "    for j in range(N):\n",
    "        if(i==j):continue \n",
    "        if(not C[i,j]):continue# if it is not connect we don't need to create a_ij\n",
    "        if(C[i,j]==1):# The relation is Mutalism\n",
    "            denominator=np.sum(np.delete(A[i,:],j))# denomitor says to sum over the row A in with element col removed\n",
    "            if(denominator==0):\n",
    "                denominator=1 # We can not divide by zero. And this has a weird physical interpretation (look at note in paper)\n",
    "            a[i,j]=fM*e[i,j]*A[i,j]/denominator\n",
    "            continue\n",
    "        elif(i>j): # The relation is Antagonistic, only do in the case i>j since both a_ij and a_ji will be done\n",
    "            # If i>j Then i should be preditor, since a_ji will be negatif.\n",
    "            # This is correct since in the cascade model only the higher number species consumes a lower number species.\n",
    "            denominator=np.sum(np.delete(A[i,:],j))\n",
    "            if(denominator==0):\n",
    "                denominator=1\n",
    "            term=fA*A[i,j]/denominator\n",
    "            a[i,j]=g[i,j]*term\n",
    "            a[j,i]=-1*term"
   ]
  },
  {
   "cell_type": "code",
   "execution_count": null,
   "metadata": {},
   "outputs": [],
   "source": [
    "#Create Jacobian Matrix\n",
    "J=a+np.diag(-1*X_fixed*s)\n",
    "\n",
    "#check stability\n",
    "def IsStable(JacobianMatrix):\n",
    "    EigVals=np.linalg.eigvals(JacobianMatrix)\n",
    "    EigValsReal=EigVals.real # Only work with real elements\n",
    "    if(EigValsReal[EigValsReal>0].size==0): # No elements are greater than 1\n",
    "        return 1\n",
    "    else:\n",
    "        return 0\n",
    "\n",
    "IsStable(J)"
   ]
  }
 ],
 "metadata": {
  "kernelspec": {
   "display_name": "Python 3",
   "language": "python",
   "name": "python3"
  },
  "language_info": {
   "codemirror_mode": {
    "name": "ipython",
    "version": 3
   },
   "file_extension": ".py",
   "mimetype": "text/x-python",
   "name": "python",
   "nbconvert_exporter": "python",
   "pygments_lexer": "ipython3",
   "version": "3.6.7"
  }
 },
 "nbformat": 4,
 "nbformat_minor": 2
}
