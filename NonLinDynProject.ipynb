{
 "cells": [
  {
   "cell_type": "markdown",
   "metadata": {},
   "source": [
    "# Non Lineair Dynamics Project\n",
    "\n",
    "In this project we explore the stability of biological communities. We will be studying the effect when we combine mutalistic and antognistic interaction between species together in one community.\n",
    "\n",
    "More concreet we will try to reproduce the results of this paper: *A. Moughi and M. Kondoh:* Diversity of Interaction Types and Ecological Community Stability.*Science* **337**,349 (2012)\n",
    "\n",
    "## Methodology\n",
    "\n",
    "First some basic questions out the way:\n",
    "* **Q:What exactly do we want to study?**\n",
    "\n",
    "*A: We want to study the stability of a complex community. For this we will actually check for a given fixed set of parameters, that define the community dynamics, if it is stable or not. Doing this then many times for the same configuration we can eventually put a probability on how stable the community is under these parameters.*\n",
    "* **Q:How do we even represent a community and its dynamics?**\n",
    "\n",
    "*A: We will be working with a vector $\\vec{X}$ who's components are the abundance of species, and thus represent the state of our community at a given time. The dynamics of this vector $ \\vec{X} $ are goverend by a coupled set of differential equations looking of the form: $$\\frac{d\\vec{X}}{dt}=\\vec{F}(\\vec{X},\\vec{\\alpha})$$ Here $\\vec{F}$ is a vector of function of which each depends on $\\vec{X}$ and $\\vec{\\alpha}$. $\\vec{\\alpha}$ is a vector of tunable parameter values that determine the dynamics of the system.*\n",
    "* **Q:How do we know if the community is stable?**\n",
    "\n",
    "*A: We will do linear stability analysis around a fixed point of the community to determine the stability. For this we need to determine the Jacobian Matrix of the dynamic equation and evaluate it at that point. We know the point is stable if the real part of the eigenvalues are all smaller or equal to zero. This is easily understood if one looks at the general solution of a linearised system:$$\\sum_{k=1}^{N} c_ke^{\\lambda_k t}\\vec{v_k}$$ Where k sums over all the eigenvectors $\\vec{v_k}$ and eigenvalues $\\lambda_k$, and $N$ is the dimension of the system, and $c_k$ some constante to be determined by the intial condition. If one of the eigenvalues $\\lambda_k$ has a real positif part. The solution will then always grow exponentially and move away from the fixed point allong the $\\vec{v_k}$ direction.*\n",
    "* **Q:How do we even know that there is a fixed point let alone how to find it for a big system?**\n",
    "\n",
    "*A: To solve both problems we will **impose** a fixed point in our community. This will be done by tuning the growth rate $r_i$ (see later), such that the fixed point is created. From here on out we can carry out our analysis.*\n",
    "* **Q:And other fixed points that might be stable?**\n",
    "\n",
    "*A: Indeed it is possible that the fixed point that we imposed is not stable. And that when we move away from our point and end up stumbeling on another fixed point that is stable. We then still classified our system as unstable, since we only evaluate our point. This can indeed happen and there is no way for us knowing if this happens. But more then likely is that the other fixed point is stable but with a whole lot of species dead (some $\\vec{X}$ components =0), we then also see the system as unstable since we want to look at stability that can support **all** our species.*\n",
    "\n",
    "## Choice of our Dynamical Model\n",
    "\n",
    "*Work in progress*\n",
    "Explain here how the dynamical model looks like and why it is motivated this way. "
   ]
  },
  {
   "cell_type": "code",
   "execution_count": 1,
   "metadata": {},
   "outputs": [],
   "source": [
    "import numpy as np\n",
    "import matplotlib.pyplot as plt\n",
    "import time"
   ]
  },
  {
   "cell_type": "code",
   "execution_count": 2,
   "metadata": {},
   "outputs": [],
   "source": [
    "#Create connectance Cascade mode (see notes for this.)\n",
    "def CCC(N,P,f): #CCC= Create Connection Cascade\n",
    "    LMax=int(N*(N-1)/2)\n",
    "    C_l=np.zeros(LMax) # =Lmax cascade\n",
    "    C_l[:int(LMax*P)]=-1 #Create the correct percentage of amount connections (set it default to antagonistic)\n",
    "    C_l[:int(LMax*P*f)]=1 #Create the correct percentage of mutalistic connections\n",
    "    C_l=np.random.permutation(C_l) # Mix the connection maximully.\n",
    "    # This way you have a bias to wards antagonistic connections! This is btw really bad for small N number.\n",
    "    # Now we want to project this into the Matrix form. C_l is the upper matrix. Convinietly we have the following function:\n",
    "    # https://docs.scipy.org/doc/numpy/reference/generated/numpy.triu_indices.html\n",
    "    C=np.zeros((N,N))\n",
    "    C[np.triu_indices(N,1)]=C_l # Fill the upper half of the C Matrix\n",
    "    C+=np.transpose(C) # symmetrize it.\n",
    "    return C"
   ]
  },
  {
   "cell_type": "code",
   "execution_count": 3,
   "metadata": {},
   "outputs": [],
   "source": [
    "# compute matrix small a: The real benefit growth from interaction with other species.\n",
    "# To create \"a\" we need to know PER connection if it's mutlatist or antogonist. So it will be most readable with a forloop\n",
    "def Compute_a_cascade(C,e,g,A,fA,fM): # This function is SLOW for BIG N, Mainly duo nested for loops with big calculations in it, \n",
    "    # This is done faster with Compute_a_Awesome where array slicing is used instead. Both both give same result.\n",
    "    a=np.zeros((N,N))\n",
    "    for i in range(N): # Rows\n",
    "        for j in range(N): # Columns\n",
    "            if(i==j):continue # Keep it trace less\n",
    "            if(not C[i,j]):continue # if it is not connect we don't need to create a_ij\n",
    "            if(C[i,j]==1):# The relation is Mutalism\n",
    "                denominator=np.sum(A[i,:])# We don't need to worry to sum over A[i,i] since had been multiplied with C which is traceless\n",
    "                # We also don't need to worry about dividing by zero, since you always have atleast A[i,j]\n",
    "                a[i,j]=fM*e[i,j]*A[i,j]/denominator\n",
    "            elif(i>j): # The relation is Antagonistic, only do in the case i>j since both a_ij and a_ji will be done\n",
    "                # If i>j Then i should be preditor, and thus a_ji will be negatif.\n",
    "                # This is correct since in the cascade model only the higher number species consumes a lower number species.\n",
    "                denominator=np.sum(A[i,:])\n",
    "                term=fA*A[i,j]/denominator\n",
    "                a[i,j]=g[i,j]*term\n",
    "                a[j,i]=-1*term\n",
    "\n",
    "    return a"
   ]
  },
  {
   "cell_type": "code",
   "execution_count": 4,
   "metadata": {},
   "outputs": [
    {
     "name": "stdout",
     "output_type": "stream",
     "text": [
      "[[ 0.         -0.48910319  0.02612727 -1.          0.        ]\n",
      " [ 0.12257256  0.          0.40980071  0.          0.        ]\n",
      " [ 0.30480796  0.24855409  0.          0.         -1.        ]\n",
      " [ 0.38036528  0.          0.          0.          0.        ]\n",
      " [ 0.          0.          0.17522652  0.          0.        ]]\n",
      "[[ 0.         -0.48910319  0.02612727 -1.          0.        ]\n",
      " [ 0.12257256  0.          0.40980071  0.          0.        ]\n",
      " [ 0.30480796  0.24855409  0.          0.         -1.        ]\n",
      " [ 0.38036528  0.          0.          0.          0.        ]\n",
      " [ 0.          0.          0.17522652  0.          0.        ]]\n"
     ]
    }
   ],
   "source": [
    "#Parameters\n",
    "N=5 #Number of species\n",
    "fA=1; # Strength Antagonism\n",
    "fM=1; # Strength Mutalism\n",
    "P=0.5 # Fraction that maximum connectance\n",
    "f=0.5 # Fraction of the connections that is mutalism\n",
    "\n",
    "C=CCC(N,P,f)\n",
    "\n",
    "#Random number generation\n",
    "X_fixed=np.random.rand(N)  #Abundance for fixed point\n",
    "s=np.random.rand(N)  # Inverse saturation population\n",
    "\n",
    "# This is NOT efficient, since we actually don't need to generate more then there are connections. \n",
    "# But it doesn't really matter that much for now. (upgrade this later)\n",
    "e=np.random.rand(N,N)  #Efficiency of Mutalism interactions\n",
    "g=np.random.rand(N,N)  #Efficiency of Antagonistic interactions\n",
    "A=np.random.rand(N,N)  #Preference of species to each other (regardless of the type of interaction)\n",
    "\n",
    "# Only keep the values that are connected\n",
    "e*=abs(C)\n",
    "g*=abs(C)\n",
    "A*=abs(C)\n",
    "\n",
    "\n",
    "\n",
    "def Compute_a_Awesome(C,e,g,A,fA,fM):\n",
    "    a=np.zeros((N,N))\n",
    "    Asum=np.transpose(np.sum(A,1)+np.zeros((N,N)))\n",
    "    #First antagonistic\n",
    "    up=np.triu(C)<0 # Negatif so look at antigonistic\n",
    "    down=np.tril(C)<0\n",
    "    #a[up]=-1*fA*A[up]/Asum[up] # Pray\n",
    "    term=fA*A[down]/Asum[down]\n",
    "    a[down]=term # Fill in the lower triangle (Preditors) the elemens of term.\n",
    "    a-=np.transpose(a) # This Term \"thing\" also needs to be in the Upper triangle (Prey), but minus, since they are being eaten\n",
    "    a[down]*=g[down] # The Preditors also need to be multiplied by a conversion factor.\n",
    "    \n",
    "    #Second mutalism\n",
    "    a[C>0]=e[C>0]*fM*A[C>0]/Asum[C>0]# This is not hinderd by the Antagonistic connections.\n",
    "    return a\n",
    "\n",
    "# Here we see if the two really produce the same matrix. Because Compute_a_cascade is easier to understand.\n",
    "a=Compute_a_Awesome(C,e,g,A,fA,fM)\n",
    "print(Compute_a_cascade(C,e,g,A,fA,fM))\n",
    "print(a)\n"
   ]
  },
  {
   "cell_type": "code",
   "execution_count": 22,
   "metadata": {},
   "outputs": [],
   "source": [
    "#check stability\n",
    "def IsStable(JacobianMatrix):\n",
    "    EigVals=np.linalg.eigvals(JacobianMatrix)\n",
    "    EigValsReal=EigVals.real # Only work with real elements\n",
    "    if(EigValsReal[EigValsReal>0].size==0): # No elements are greater than 0\n",
    "        return 1\n",
    "    else:\n",
    "        return 0"
   ]
  },
  {
   "cell_type": "code",
   "execution_count": 16,
   "metadata": {},
   "outputs": [],
   "source": [
    "def ComputeStabilityUpdate(N,P,f,fA,fM):\n",
    "    Stable=0\n",
    "    Samples= #Do a 1000 for the final computation.\n",
    "    for i in range(Samples):\n",
    "        #Compute connections:\n",
    "        C=CCC(N,P,f)\n",
    "        \n",
    "        # Do Random number generation\n",
    "        X_fixed=np.random.rand(N)  #Abundance for fixed point\n",
    "        s=np.random.rand(N)  # Inverse saturation population\n",
    "        # Not efficient\n",
    "        e=np.random.rand(N,N)  #Efficiency of Mutalism interactions\n",
    "        g=np.random.rand(N,N)  #Efficiency of Antagonistic interactions\n",
    "        A=np.random.rand(N,N)  #Preference of species to each other (regardless of the type of interaction)\n",
    "\n",
    "        # Only keep the values that are connected\n",
    "        e*=abs(C)\n",
    "        g*=abs(C)\n",
    "        A*=abs(C)\n",
    "        \n",
    "        #Compute interaction coëfficient:\n",
    "        a=Compute_a_Awesome(C,e,g,A,fA,fM)\n",
    "        \n",
    "        #Create Jacobian Matrix\n",
    "        J=np.dot(np.diag(X_fixed),a)+np.diag(-1*s*X_fixed)\n",
    "        #print(J)\n",
    "        \n",
    "        if(IsStable(J)):\n",
    "            Stable+=1\n",
    "    return Stable/Samples\n",
    "\n",
    "#Vectorize the function, such that we can give it arrays as input.\n",
    "VComputeStabilityUpdate=np.vectorize(ComputeStabilityUpdate,otypes=[float]) #specify output type else it will compute the first element twice to determine the output."
   ]
  },
  {
   "cell_type": "code",
   "execution_count": 7,
   "metadata": {},
   "outputs": [
    {
     "data": {
      "text/plain": [
       "array([[ 0.        , -0.47913521,  0.02612727, -0.71964456,  0.        ],\n",
       "       [ 0.75534543,  0.        ,  0.40980071,  0.        ,  0.        ],\n",
       "       [ 0.30480796,  0.24855409,  0.        ,  0.        , -0.96629014],\n",
       "       [ 0.23537433,  0.        ,  0.        ,  0.        ,  0.        ],\n",
       "       [ 0.        ,  0.        ,  0.9266874 ,  0.        ,  0.        ]])"
      ]
     },
     "execution_count": 7,
     "metadata": {},
     "output_type": "execute_result"
    }
   ],
   "source": [
    "# Random competition a:\n",
    "\n",
    "def Compute_a_Random(C,e,g,A,fA,fM):\n",
    "    a=np.zeros((N,N))\n",
    "    Asum=np.transpose(np.sum(A,1)+np.zeros((N,N)))\n",
    "    \n",
    "    up=np.triu(C)<0 # Negatif so look at antigonistic\n",
    "    down=np.tril(C)<0\n",
    "    a[down]=fA*np.random.rand(a[down].size)\n",
    "    a[up]=-1*fA*np.random.rand(a[up].size)\n",
    "    \n",
    "    #Second mutalism\n",
    "    a[C>0]=e[C>0]*fM*A[C>0]/Asum[C>0]# This is not hinderd by the Antagonistic connections.\n",
    "    return a\n",
    "\n",
    "Compute_a_Random(C,e,g,A,fA,fM)"
   ]
  },
  {
   "cell_type": "code",
   "execution_count": 8,
   "metadata": {},
   "outputs": [],
   "source": [
    "# Let's reproduce the S5 of the extra paper. Here they said that the competion coëfficients a_ij are randomly chosen. between 0 and -1\n",
    "def ComputeStabilityRandom(N,P,f,fA,fM):\n",
    "    Stable=0\n",
    "    Samples=100 #Do a 1000 for the final computation.\n",
    "    for i in range(Samples):\n",
    "        #Compute connections:\n",
    "        C=CCC(N,P,f)\n",
    "        \n",
    "        # Do Random number generation\n",
    "        X_fixed=np.random.rand(N)  #Abundance for fixed point\n",
    "        s=np.random.rand(N)  # Inverse saturation population\n",
    "        \n",
    "        # Not efficient\n",
    "        e=np.random.rand(N,N)  #Efficiency of Mutalism interactions\n",
    "        g=np.random.rand(N,N)  #Efficiency of Antagonistic interactions\n",
    "        A=np.random.rand(N,N)  #Preference of species to each other (regardless of the type of interaction)\n",
    "\n",
    "        # Only keep the values that are connected\n",
    "        e*=abs(C)\n",
    "        g*=abs(C)\n",
    "        A*=abs(C)\n",
    "        \n",
    "        #Compute interaction coëfficient:\n",
    "        a=Compute_a_Random(C,e,g,A,fA,fM)\n",
    "        \n",
    "        #Create Jacobian Matrix\n",
    "        J=np.dot(np.diag(X_fixed),a)+np.diag(-1*s*X_fixed)\n",
    "        #print(J)\n",
    "        \n",
    "        if(IsStable(J)):\n",
    "            Stable+=1\n",
    "    return Stable/Samples\n",
    "\n",
    "#Vectorize the function, such that we can give it arrays as input.\n",
    "VComputeStabilityRandom=np.vectorize(ComputeStabilityRandom,otypes=[float]) #specify output type else it will compute the first element twice to determine the output."
   ]
  },
  {
   "cell_type": "code",
   "execution_count": 21,
   "metadata": {},
   "outputs": [
    {
     "name": "stdout",
     "output_type": "stream",
     "text": [
      "[[-0.65919642 -0.73320427]\n",
      " [ 0.08245588 -0.18346249]]\n",
      "[-0.42132946+0.06226004j -0.42132946-0.06226004j]\n",
      "[-0.42132946 -0.42132946]\n",
      "[[-0.53077675 -0.55219582]\n",
      " [ 0.00187069 -0.11099717]]\n",
      "[-0.52830137 -0.11347255]\n",
      "[-0.52830137 -0.11347255]\n",
      "Time to compute: 0.005475999999999814 seconds\n"
     ]
    }
   ],
   "source": [
    "#Parameters\n",
    "N=2 #Number of species\n",
    "fA=1 # Strength Antagonism\n",
    "fM=1# Strength Mutalism\n",
    "P=1 # Fraction that maximum connectance\n",
    "#f=np.linspace(0,1,41) # Fraction of the connections that is mutalism\n",
    "f=0\n",
    "# estimated time for 41=1min7 if 1000 samples per point are used.\n",
    "\n",
    "start=time.clock()\n",
    "Stability=VComputeStabilityUpdate(N,P,f,fA,fM)\n",
    "stop=time.clock()\n",
    "print(\"Time to compute: \"+str(stop-start)+\" seconds\")"
   ]
  },
  {
   "cell_type": "code",
   "execution_count": 10,
   "metadata": {},
   "outputs": [
    {
     "data": {
      "text/plain": [
       "[<matplotlib.lines.Line2D at 0x7f2734c542b0>]"
      ]
     },
     "execution_count": 10,
     "metadata": {},
     "output_type": "execute_result"
    },
    {
     "data": {
      "image/png": "[encoded data removed]",
      "text/plain": [
       "<Figure size 720x504 with 1 Axes>"
      ]
     },
     "metadata": {},
     "output_type": "display_data"
    }
   ],
   "source": [
    "#Graphics\n",
    "#Generate the canvas\n",
    "fig=plt.figure(\"PLOT\",figsize=(10,7))\n",
    "s=fig.add_subplot(111)\n",
    "\n",
    "#Get the lables right\n",
    "plt.title(\"Stability Cascade\",fontsize = 18)\n",
    "plt.xlabel('P_m',fontsize=15)\n",
    "plt.ylabel('Community Stability',fontsize=15)\n",
    "plt.tick_params(axis='both', labelsize=15)\n",
    "\n",
    "#Plot the Graph\n",
    "plt.plot(f,Stability,'rD')"
   ]
  }
 ],
 "metadata": {
  "kernelspec": {
   "display_name": "Python 3",
   "language": "python",
   "name": "python3"
  },
  "language_info": {
   "codemirror_mode": {
    "name": "ipython",
    "version": 3
   },
   "file_extension": ".py",
   "mimetype": "text/x-python",
   "name": "python",
   "nbconvert_exporter": "python",
   "pygments_lexer": "ipython3",
   "version": "3.6.8"
  }
 },
 "nbformat": 4,
 "nbformat_minor": 2
}
