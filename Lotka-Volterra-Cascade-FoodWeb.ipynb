{
 "cells": [
  {
   "cell_type": "markdown",
   "metadata": {},
   "source": [
    "In this notebook we will try to follow the following paper: https://www.ncbi.nlm.nih.gov/pmc/articles/PMC1088682/pdf/PB010869.pdf\n",
    "\n",
    "\n",
    "Instead of the other one... Since it does not seem to help. This paper goes a bit better in detail in how the model is really made up.( the Lotka-Volterra Cascade model), so we will be focusing on this.\n",
    "\n",
    "\n",
    "In this model they also give a more detailed definition of the Lotka-Volterra cascade model:\n",
    "For each pair (i,j) with i < j, i NEVER consumes j. While species j has a probability c/n of eating. ( here n= number of species, c= number of connections for species i of whom we evaluate the pij (i guess..) This is not explained!!.) This was something I did not did, I assumed that the probability of that the other may consume, was just comming from by saying it is a antagonistic reaction (which is probable), but since this paper is only about angtagonistic. \n",
    "\n",
    "Maybe c is still antagonistic since it is probability 1, if c=n. I find this weird, Why is is the chance normalised by n ? and what is de definition of c? \n",
    "\n",
    "Well atleast he talks about four distinc situattions that can happen. For each pair (i,j) (where i< j):\n",
    "\n",
    "    i) Species j has a negatif effect on i, but species i no effect on j. p_ij<0 pji=0. This is called a recipient-controlled link or r-link\n",
    "    ii) Species j has no effect on i, but i has a positief effect on j. p_ij=0 pji>0 (donor controlled links or s-links)\n",
    "    iii) Species j has negatif effect on i, and species i has positif effect on j. p_ij<0 & p_ji>0 (consumer-victim or t-links) \n",
    "    iv) Neither species has an effect on each other. p_ij=0 & p_ji=0. \n",
    "    \n",
    "So indeed this model only talks about antagonistic reaction (since no p_ij>0 & p_ij>0) is possible. But this cascade model also allows for the situation that one of the sides is not connected. Let's try to implement that. And let's also implement the that we really do it with probability."
   ]
  },
  {
   "cell_type": "code",
   "execution_count": 1,
   "metadata": {},
   "outputs": [],
   "source": [
    "import numpy as np\n",
    "import matplotlib.pyplot as plt\n",
    "import time"
   ]
  },
  {
   "cell_type": "code",
   "execution_count": 2,
   "metadata": {},
   "outputs": [],
   "source": [
    "n=8 # Species\n",
    "r=0.05 # Chance to have an r-link A_ij<0, A_ji=0 (where i<j)\n",
    "s=0.05 # chance to have an s-link A_ij=0, A_ji>0\n",
    "t=0.1 # chance to have an t-link A_ij<0, A_ji>0\n",
    "p_arr=np.array([r,s,t,1-(r+s+t)])#Probability array\n",
    "# let r=-1, s=-2 and t=-3 No link =0 and let +1 be for mutalistic reactions (later on)\n",
    "v=np.array([-1,-2,-3,0])# Value to know what connection it is."
   ]
  },
  {
   "cell_type": "markdown",
   "metadata": {},
   "source": [
    "For every pair (i,j) We need to determine what kind of connection it is going to be. (namely) r,s,t nothing or m.\n",
    "Btw, we don't count pairs twice (i,j)=(j,i).\n",
    "\n",
    "For a Most general food web of N species. How many connections are there? First look at one species. It is connected to all other species. =N-1 connections (You can't connect to your self) This for every species, so we have N(N-1) connections. But we have now counted every connectance twice (remembre (i,j)=(j,i)). So we have N(N-1)/2 connections\n",
    "\n",
    "Make an array of N(N-1)/2 long. In which every element represents a connection.\n",
    "We can generate this now in 2 ways:\n",
    "\n",
    "    1) We make it static. Aka the number of r,s,t-links is fixed and represents fills exactly the chance r,s,t. And then we shuffel to make the connections random again. \n",
    "    2) We generate it also really random, and we do it following the probability distributions on that connection "
   ]
  },
  {
   "cell_type": "code",
   "execution_count": 3,
   "metadata": {},
   "outputs": [
    {
     "name": "stdout",
     "output_type": "stream",
     "text": [
      "2\n",
      "7\n"
     ]
    }
   ],
   "source": [
    "# Method 1, generate the links staticly:\n",
    "Pair_type_static=np.zeros(int(n*(n-1)/2)) # I know n*(n-1) by construction is even and so doing /2 is always an int. but the computer does not see it that way\n",
    "n_p=(n*(n-1)/2*p_arr).astype(int)# Create an array that holds the expectation number, of eacht type of connection\n",
    "# let r=-1, s=-2 and t=-3 No link =0 and let +1 be for mutalistic reactions (later on)\n",
    "Pair_type_static[0:n_p[0]]=-1#r\n",
    "Pair_type_static[n_p[0]:n_p[0]+n_p[1]]=-2#s\n",
    "Pair_type_static[n_p[0]+n_p[1]:n_p[0]+n_p[1]+n_p[2]]=-3#t\n",
    "# This codes Sets the correct amount of connections (can easily be checked by: TestArray=np.zeros(10);TestArray[0:2]=1;TestArray[2:4]=2)\n",
    "Pair_type_static=np.random.permutation(Pair_type_static)# Shuffel to mimic that the\n",
    "\n",
    "\n",
    "# Method 2, from a distribution\n",
    "Pair_type_distr=np.random.choice(v,int(n*(n-1)/2),p=p_arr)\n",
    "\n",
    "#Let's evaluate the numbers:\n",
    "print(Pair_type_static[Pair_type_static==-3].size)\n",
    "print(Pair_type_distr[Pair_type_distr==-3].size)"
   ]
  },
  {
   "cell_type": "markdown",
   "metadata": {},
   "source": [
    "On sees that the number of t-type connection for Static is always the same while distr floats arround that number. "
   ]
  },
  {
   "cell_type": "code",
   "execution_count": 4,
   "metadata": {},
   "outputs": [],
   "source": [
    "#check stability\n",
    "def IsStable(JacobianMatrix):\n",
    "    EigVals=np.linalg.eigvals(JacobianMatrix)\n",
    "    EigValsReal=EigVals.real # Only work with real elements\n",
    "    if(EigValsReal[EigValsReal>0].size==0): # No elements are greater than 0\n",
    "        return 1\n",
    "    else:\n",
    "        return 0\n",
    "\n",
    "def Create_a(n,Cup):\n",
    "    Clo=np.transpose(Cup)# Lower triangle connection (i>j)\n",
    "    C=Cup+Clo# Symmetric connection\n",
    "    #Create some array slicing, and rightaway also determine it's size\n",
    "    Upper_r=Cup==-1;sUr=Upper_r[Upper_r==True].size\n",
    "    Lower_s=Clo==-2;sLs=Lower_s[Lower_s==True].size\n",
    "    Upper_t=Cup==-3;sUt=Upper_t[Upper_t==True].size\n",
    "    Lower_t=Clo==-3;sLt=Lower_t[Lower_t==True].size\n",
    "    m=C==1;sm=m[m==True].size\n",
    "    \n",
    "    # Create the random Coëfficients. \n",
    "    e=np.random.rand(sm)\n",
    "    gt=np.random.rand(sLt)\n",
    "    gs=np.random.rand(sLs)\n",
    "    \n",
    "    A=np.random.rand(n,n)\n",
    "    A[C==0]=0 # Keep only the non negatif ones.\n",
    "    ASum=np.sum(A,1)\n",
    "    \n",
    "    row_ind=np.indices((n,n))[0]# Row indices. We need this since we will use this to acces ASum. \n",
    "    # Also this is in nxn matrix which needs to be, since we need to array slices is, which are also nxn matrixes.\n",
    "    # the result will be an array with the correspoding row indices of the elements. Then apply this to ASum. \n",
    "    \n",
    "    a=np.zeros((n,n))\n",
    "    #First antagonistic\n",
    "    # t\n",
    "    a[Upper_t]=A[Upper_t]/ASum[row_ind[Upper_t]]\n",
    "    a+=np.transpose(a)# Symetrise it. Because of this step, we need t first, since now it is still empty.\n",
    "    a[Lower_t]*=gt # This should acces the term we just transposed there.\n",
    "    a[Upper_t]*=-1 #Still make the upper negatif\n",
    "    # r\n",
    "    a[Upper_r]=-1*A[Upper_r]/ASum[row_ind[Upper_r]]\n",
    "    # s\n",
    "    a[Lower_s]=gs*A[Lower_s]/ASum[row_ind[Lower_s]]\n",
    "    \n",
    "    # Second Mutalistic reactions\n",
    "    a[m]=e*A[m]/ASum[row_ind[m]]\n",
    "    \n",
    "    return a\n",
    "    \n",
    "def Stability(n,P,fm,fr,fs):\n",
    "    samples=100\n",
    "    stable=0\n",
    "    for i in range(samples):\n",
    "        #Create type for each connection\n",
    "        p_arr=np.array([P*(1-fm)*fr,P*(1-fm)*fs,P*(1-fm)*(1-fr-fs),P*fm,1-P])# Chance distribution fo the connection type\n",
    "        v=np.array([-1,-2,-3,1,0])# [r,s,t,m,nothing] This is the code that we will use in the C matrix.\n",
    "        Pair_type=np.random.choice(v,int(n*(n-1)/2),p=p_arr)# Draw from the distriubtion of values=v determining the type of a connection, from a distriubtion P_arr.\n",
    "        # Cast it in to matrix form\n",
    "        Cup=np.zeros((n,n))\n",
    "        Cup[np.triu_indices(n,1)]=Pair_type# upper triangle aka (i<j) (negatif for antagonistic)\n",
    "        \n",
    "        a=Create_a(n,Cup)\n",
    "        \n",
    "        X_fixed=np.random.rand(n)\n",
    "        s=np.random.rand(n)\n",
    "        J=np.dot(np.diag(X_fixed),a)+np.diag(-1*s*X_fixed)# first random is saturation, second is x_fixed\n",
    "        if(IsStable(J)):\n",
    "            stable+=1\n",
    "    return stable/samples\n",
    "\n",
    "VStability=np.vectorize(Stability,otypes=[float])"
   ]
  },
  {
   "cell_type": "code",
   "execution_count": 5,
   "metadata": {},
   "outputs": [
    {
     "name": "stdout",
     "output_type": "stream",
     "text": [
      "Time to compute: 2.270694 seconds\n"
     ]
    }
   ],
   "source": [
    "#Parameters\n",
    "n=41 #Number of species\n",
    "P=0.9# Connaction that maximum connectance\n",
    "fm=np.linspace(0,1,41) # Fraction of the connections that is mutalism\n",
    "fr=0.2 # fraction of the antagonistic reactions that is r-type\n",
    "fs=0.2 # fraction of the antagonistic reactions that is s-type\n",
    "# fr+fs<1 !! \n",
    "\n",
    "start=time.clock()\n",
    "Stability=VStability(n,P,fm,fr,fs)\n",
    "stop=time.clock()\n",
    "print(\"Time to compute: \"+str(stop-start)+\" seconds\")"
   ]
  },
  {
   "cell_type": "code",
   "execution_count": 6,
   "metadata": {},
   "outputs": [
    {
     "data": {
      "text/plain": [
       "[<matplotlib.lines.Line2D at 0x7f4476d3a0f0>]"
      ]
     },
     "execution_count": 6,
     "metadata": {},
     "output_type": "execute_result"
    },
    {
     "data": {
      "image/png": "[encoded data removed]",
      "text/plain": [
       "<Figure size 720x504 with 1 Axes>"
      ]
     },
     "metadata": {},
     "output_type": "display_data"
    }
   ],
   "source": [
    "#Graphics\n",
    "#Generate the canvas\n",
    "fig=plt.figure(\"PLOT\",figsize=(10,7))\n",
    "s=fig.add_subplot(111)\n",
    "\n",
    "#Get the lables right\n",
    "plt.title(\"Stability Cascade\",fontsize = 18)\n",
    "plt.xlabel('P_m',fontsize=15)\n",
    "plt.ylabel('Community Stability',fontsize=15)\n",
    "plt.tick_params(axis='both', labelsize=15)\n",
    "\n",
    "#Plot the Graph\n",
    "plt.plot(fm,Stability,'rD')"
   ]
  }
 ],
 "metadata": {
  "kernelspec": {
   "display_name": "Python 3",
   "language": "python",
   "name": "python3"
  },
  "language_info": {
   "codemirror_mode": {
    "name": "ipython",
    "version": 3
   },
   "file_extension": ".py",
   "mimetype": "text/x-python",
   "name": "python",
   "nbconvert_exporter": "python",
   "pygments_lexer": "ipython3",
   "version": "3.6.8"
  }
 },
 "nbformat": 4,
 "nbformat_minor": 2
}
